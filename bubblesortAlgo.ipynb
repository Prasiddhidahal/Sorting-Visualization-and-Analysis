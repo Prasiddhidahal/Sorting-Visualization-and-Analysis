{
  "metadata": {
    "kernelspec": {
      "name": "python",
      "display_name": "Python (Pyodide)",
      "language": "python"
    },
    "language_info": {
      "codemirror_mode": {
        "name": "python",
        "version": 3
      },
      "file_extension": ".py",
      "mimetype": "text/x-python",
      "name": "python",
      "nbconvert_exporter": "python",
      "pygments_lexer": "ipython3",
      "version": "3.8"
    },
    "vscode": {
      "interpreter": {
        "hash": "49cb93f377a7abe7414b7b0f21fb3017538004a126cf690fb524202736b7fb92"
      }
    }
  },
  "nbformat_minor": 4,
  "nbformat": 4,
  "cells": [
    {
      "cell_type": "code",
      "source": "# bubble sort algorithm",
      "metadata": {},
      "execution_count": null,
      "outputs": []
    },
    {
      "cell_type": "code",
      "source": "",
      "metadata": {},
      "execution_count": null,
      "outputs": []
    },
    {
      "cell_type": "code",
      "source": "# Python program for implementation of Bubble Sort\n \ndef bubbleSort(arr):\n    n = len(arr)\n    # optimize code, so if the array is already sorted, it doesn't need\n    # to go through the entire process\n    swapped = False\n    # Traverse through all array elements\n    for i in range(n-1):\n        # range(n) also work but outer loop will\n        # repeat one time more than needed.\n        # Last i elements are already in place\n        for j in range(0, n-i-1):\n            if arr[j] > arr[j + 1]:\n                swapped = True\n                arr[j], arr[j + 1] = arr[j + 1], arr[j]\n         \n        if not swapped:\n            # if we haven't needed to make a single swap, we\n            # can just exit the main loop.\n            return\narr = [64, 34, 25, 12, 22, 11, 90]\n \nbubbleSort(arr)\n \nprint(\"Sorted array is:\")\nfor i in range(len(arr)):\n    print(\"% d\" % arr[i], end=\" \")",
      "metadata": {},
      "execution_count": null,
      "outputs": []
    },
    {
      "cell_type": "code",
      "source": "",
      "metadata": {},
      "execution_count": null,
      "outputs": []
    },
    {
      "cell_type": "markdown",
      "source": "Understanding various sorting algoritms",
      "metadata": {}
    },
    {
      "cell_type": "code",
      "source": "",
      "metadata": {},
      "execution_count": null,
      "outputs": []
    },
    {
      "cell_type": "code",
      "source": "",
      "metadata": {},
      "execution_count": null,
      "outputs": []
    }
  ]
}